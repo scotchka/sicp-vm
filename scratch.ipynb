{
 "cells": [
  {
   "cell_type": "code",
   "execution_count": 24,
   "id": "81897acb",
   "metadata": {},
   "outputs": [],
   "source": [
    "def extract_labels(text, receive):\n",
    "#     print(text, receive)\n",
    "    if not text:\n",
    "        return receive([], [])\n",
    "\n",
    "    def new_receive(insts, labels):\n",
    "        print(text, insts, labels)\n",
    "        next_inst = text[0]\n",
    "\n",
    "        return receive([next_inst] + insts, labels)\n",
    "\n",
    "    return extract_labels(text[1:], new_receive)"
   ]
  },
  {
   "cell_type": "code",
   "execution_count": 25,
   "id": "b341e2a0",
   "metadata": {},
   "outputs": [],
   "source": [
    "def receive(*args):\n",
    "    return (args)"
   ]
  },
  {
   "cell_type": "code",
   "execution_count": 26,
   "id": "ad4c2beb",
   "metadata": {},
   "outputs": [
    {
     "name": "stdout",
     "output_type": "stream",
     "text": [
      "[3] [] []\n",
      "[2, 3] [3] []\n",
      "[1, 2, 3] [2, 3] []\n"
     ]
    },
    {
     "data": {
      "text/plain": [
       "([1, 2, 3], [])"
      ]
     },
     "execution_count": 26,
     "metadata": {},
     "output_type": "execute_result"
    }
   ],
   "source": [
    "extract_labels([1,2,3], receive)"
   ]
  },
  {
   "cell_type": "code",
   "execution_count": null,
   "id": "320fc818",
   "metadata": {},
   "outputs": [],
   "source": []
  }
 ],
 "metadata": {
  "kernelspec": {
   "display_name": "Python 3 (ipykernel)",
   "language": "python",
   "name": "python3"
  },
  "language_info": {
   "codemirror_mode": {
    "name": "ipython",
    "version": 3
   },
   "file_extension": ".py",
   "mimetype": "text/x-python",
   "name": "python",
   "nbconvert_exporter": "python",
   "pygments_lexer": "ipython3",
   "version": "3.13.5"
  }
 },
 "nbformat": 4,
 "nbformat_minor": 5
}
